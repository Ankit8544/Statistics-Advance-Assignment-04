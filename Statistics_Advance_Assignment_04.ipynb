{
 "cells": [
  {
   "cell_type": "markdown",
   "metadata": {},
   "source": [
    "Q.No-01    What is the difference between a t-test and a z-test? Provide an example scenario where you would use each type of test."
   ]
  },
  {
   "cell_type": "markdown",
   "metadata": {},
   "source": [
    "Ans :-"
   ]
  },
  {
   "cell_type": "markdown",
   "metadata": {},
   "source": [
    "Both t-tests and z-tests are statistical hypothesis tests used to make inferences about population parameters based on sample data. They are often used to determine whether the observed differences between sample groups or observed sample statistics are statistically significant or if they could have occurred by chance. The key difference between these tests lies in the scenarios where they are applicable, particularly when it comes to the population parameters being tested and the sample size."
   ]
  },
  {
   "cell_type": "markdown",
   "metadata": {},
   "source": [
    "**1. `T-test :-`**"
   ]
  },
  {
   "cell_type": "markdown",
   "metadata": {},
   "source": [
    "A t-test is used when the sample size is relatively small (typically less than 30) or when the population standard deviation is unknown. There are different types of t-tests, including the one-sample t-test, two-sample (independent) t-test, and paired t-test. The t-test takes into account the variability in the sample data and calculates the t-statistic to test the hypothesis."
   ]
  },
  {
   "cell_type": "markdown",
   "metadata": {},
   "source": [
    "*    **`Example Scenario for a T-test :-`**"
   ]
  },
  {
   "cell_type": "markdown",
   "metadata": {},
   "source": [
    "Suppose you want to test whether the mean height of a sample of 20 students in a particular school is significantly different from the known average height of the entire student population (population mean). Since the population standard deviation is not known, you would use a one-sample t-test to analyze the data."
   ]
  },
  {
   "cell_type": "code",
   "execution_count": 1,
   "metadata": {},
   "outputs": [
    {
     "name": "stdout",
     "output_type": "stream",
     "text": [
      "T-statistic: -0.6064971548933317\n",
      "P-value: 0.5513632477619692\n",
      "Fail to reject the null hypothesis: The mean height is not significantly different.\n"
     ]
    }
   ],
   "source": [
    "import numpy as np\n",
    "from scipy.stats import ttest_1samp\n",
    "\n",
    "# Sample data (heights of 20 students)\n",
    "sample_data = [160, 162, 165, 167, 168, 160, 163, 166, 164, 166,\n",
    "               163, 162, 167, 168, 162, 164, 166, 165, 167, 168]\n",
    "\n",
    "# Population mean height\n",
    "population_mean = 165\n",
    "\n",
    "# Perform one-sample t-test\n",
    "t_statistic, p_value = ttest_1samp(sample_data, population_mean)\n",
    "\n",
    "print(\"T-statistic:\", t_statistic)\n",
    "print(\"P-value:\", p_value)\n",
    "\n",
    "if p_value < 0.05:\n",
    "    print(\"Reject the null hypothesis: The mean height is significantly different.\")\n",
    "else:\n",
    "    print(\"Fail to reject the null hypothesis: The mean height is not significantly different.\")"
   ]
  },
  {
   "cell_type": "markdown",
   "metadata": {},
   "source": [
    "**2. `Z-test :-`**"
   ]
  },
  {
   "cell_type": "markdown",
   "metadata": {},
   "source": [
    "A z-test is used when the sample size is large (typically greater than 30) and the population standard deviation is known. This test assumes that the sample mean follows a normal distribution and uses the z-statistic to test the hypothesis."
   ]
  },
  {
   "cell_type": "markdown",
   "metadata": {},
   "source": [
    "*    **`Example Scenario for a Z-test :-`**"
   ]
  },
  {
   "cell_type": "markdown",
   "metadata": {},
   "source": [
    "Imagine a situation where you have a sample of 100 IQ scores from a population with a known standard deviation of 15. You want to determine if the average IQ score in the sample is significantly different from a hypothesized population mean IQ score of 100. In this case, you could use a z-test because the sample size is sufficiently large and the population standard deviation is known."
   ]
  },
  {
   "cell_type": "code",
   "execution_count": 2,
   "metadata": {},
   "outputs": [
    {
     "name": "stdout",
     "output_type": "stream",
     "text": [
      "Z-score: 3.703378504241635\n",
      "P-value: 0.0001063735468233018\n",
      "Reject the null hypothesis: The mean IQ is significantly different.\n"
     ]
    }
   ],
   "source": [
    "import numpy as np\n",
    "from scipy.stats import norm\n",
    "\n",
    "# Sample data (IQ scores of 100 individuals)\n",
    "sample_data = [105, 110, 98, 115, 102, 108, 98, 105, 112, 101,\n",
    "               106, 115, 100, 105, 110, 105, 98, 112, 108, 103,\n",
    "               107, 98, 102, 100, 115, 98, 105, 108, 110, 106,\n",
    "               112, 105, 103, 98, 115, 102, 108, 105, 100, 112,\n",
    "               110, 107, 98, 105, 103, 115, 101, 108, 112, 105,\n",
    "               98, 102, 110, 115, 105, 106, 112, 98, 100, 105,\n",
    "               108, 115, 110, 98, 103, 106, 112, 105, 101, 108,\n",
    "               100, 102, 115, 105, 98, 112, 110, 107, 106, 100,\n",
    "               103, 108, 115, 105, 112, 98, 110, 107, 102, 106]\n",
    "\n",
    "# Population mean IQ\n",
    "population_mean_iq = 100\n",
    "population_std_iq = 15  # Known population standard deviation\n",
    "\n",
    "# Perform z-test\n",
    "z_score = (np.mean(sample_data) - population_mean_iq) / (population_std_iq / np.sqrt(len(sample_data)))\n",
    "p_value = 1 - norm.cdf(z_score)  # One-sided test\n",
    "\n",
    "print(\"Z-score:\", z_score)\n",
    "print(\"P-value:\", p_value)\n",
    "\n",
    "if p_value < 0.05:\n",
    "    print(\"Reject the null hypothesis: The mean IQ is significantly different.\")\n",
    "else:\n",
    "    print(\"Fail to reject the null hypothesis: The mean IQ is not significantly different.\")"
   ]
  },
  {
   "cell_type": "markdown",
   "metadata": {},
   "source": [
    "`In summary `, choose between a t-test and a z-test based on the following factors:\n",
    "- Sample size: Use a t-test for smaller sample sizes and a z-test for larger sample sizes.\n",
    "- Population standard deviation: If it's known, a z-test can be used; if it's unknown, a t-test might be more appropriate."
   ]
  },
  {
   "cell_type": "markdown",
   "metadata": {},
   "source": [
    "--------------------------------------------------------------------------------------------------------------------"
   ]
  },
  {
   "cell_type": "markdown",
   "metadata": {},
   "source": [
    "Q.N0-02    Differentiate between one-tailed and two-tailed tests."
   ]
  },
  {
   "cell_type": "markdown",
   "metadata": {},
   "source": [
    "Ans :-"
   ]
  },
  {
   "cell_type": "markdown",
   "metadata": {},
   "source": [
    "One-Tailed Test and Two-Tailed Test are concepts commonly used in statistical hypothesis testing to determine whether there is enough evidence to support or reject a null hypothesis based on sample data. These tests are used to make decisions about population parameters based on sample statistics. The key difference between them lies in the directionality of the test and the area of the distribution used for comparison."
   ]
  },
  {
   "cell_type": "code",
   "execution_count": 3,
   "metadata": {},
   "outputs": [],
   "source": [
    "import numpy as np\n",
    "from scipy import stats\n",
    "\n",
    "# Sample data (exam scores)\n",
    "sample_scores = np.array([85, 90, 88, 78, 92, 82, 88, 96, 80, 87])\n",
    "\n",
    "# Hypothesized population mean (null hypothesis)\n",
    "hypothesized_mean = 85"
   ]
  },
  {
   "cell_type": "markdown",
   "metadata": {},
   "source": [
    "**1. `One-Tailed Test :-`**"
   ]
  },
  {
   "cell_type": "markdown",
   "metadata": {},
   "source": [
    "In a one-tailed test, the alternative hypothesis specifies a specific direction of effect or change. It focuses on whether the sample statistic is significantly different from the hypothesized population parameter in only one direction. There are two possible configurations for a one-tailed test: a \"greater-than\" test or a \"less-than\" test."
   ]
  },
  {
   "cell_type": "markdown",
   "metadata": {},
   "source": [
    "- **Greater-Than Test -** In this case, the alternative hypothesis states that the population parameter is greater than a certain value. The critical region for the test is located in the upper tail of the distribution."
   ]
  },
  {
   "cell_type": "markdown",
   "metadata": {},
   "source": [
    "- **Less-Than Test -** In this case, the alternative hypothesis states that the population parameter is less than a certain value. The critical region for the test is located in the lower tail of the distribution."
   ]
  },
  {
   "cell_type": "markdown",
   "metadata": {},
   "source": [
    "The decision to reject the null hypothesis in a one-tailed test depends on whether the sample statistic falls within the critical region corresponding to the specified direction."
   ]
  },
  {
   "cell_type": "code",
   "execution_count": 4,
   "metadata": {},
   "outputs": [
    {
     "name": "stdout",
     "output_type": "stream",
     "text": [
      "One-Tailed Test:\n",
      "t-statistic: 0.9163242579854516\n",
      "P-value: 0.1916965732297759\n",
      "Fail to reject the null hypothesis.\n"
     ]
    }
   ],
   "source": [
    "# Perform one-tailed t-test (greater than)\n",
    "t_statistic, p_value_one_tailed = stats.ttest_1samp(sample_scores, hypothesized_mean, alternative='greater')\n",
    "\n",
    "print(\"One-Tailed Test:\")\n",
    "print(f\"t-statistic: {t_statistic}\")\n",
    "print(f\"P-value: {p_value_one_tailed}\")\n",
    "if p_value_one_tailed < 0.05:\n",
    "    print(\"Reject the null hypothesis (mean is greater).\")\n",
    "else:\n",
    "    print(\"Fail to reject the null hypothesis.\")\n"
   ]
  },
  {
   "cell_type": "markdown",
   "metadata": {},
   "source": [
    "**2. `Two-Tailed Test :-`**"
   ]
  },
  {
   "cell_type": "markdown",
   "metadata": {},
   "source": [
    "\n",
    "In a two-tailed test, the alternative hypothesis does not specify a particular direction of effect. Instead, it tests whether the sample statistic is significantly different from the hypothesized population parameter in either direction. The critical region for the test is divided between the two tails of the distribution."
   ]
  },
  {
   "cell_type": "markdown",
   "metadata": {},
   "source": [
    "The decision to reject the null hypothesis in a two-tailed test depends on whether the sample statistic falls into either of the two critical regions. The test considers the possibility of an effect in both directions."
   ]
  },
  {
   "cell_type": "code",
   "execution_count": 5,
   "metadata": {},
   "outputs": [
    {
     "name": "stdout",
     "output_type": "stream",
     "text": [
      "\n",
      "Two-Tailed Test:\n",
      "t-statistic: 0.9163242579854516\n",
      "P-value: 0.3833931464595518\n",
      "Fail to reject the null hypothesis.\n"
     ]
    }
   ],
   "source": [
    "# Perform two-tailed t-test\n",
    "t_statistic, p_value_two_tailed = stats.ttest_1samp(sample_scores, hypothesized_mean)\n",
    "\n",
    "print(\"\\nTwo-Tailed Test:\")\n",
    "print(f\"t-statistic: {t_statistic}\")\n",
    "print(f\"P-value: {p_value_two_tailed}\")\n",
    "if p_value_two_tailed < 0.05:\n",
    "    print(\"Reject the null hypothesis (mean is different).\")\n",
    "else:\n",
    "    print(\"Fail to reject the null hypothesis.\")"
   ]
  },
  {
   "cell_type": "markdown",
   "metadata": {},
   "source": [
    "`To summarize` :\n",
    "- One-Tailed Test: Used when you are specifically interested in whether a parameter is greater than or less than a certain value.\n",
    "- Two-Tailed Test: Used when you want to detect any significant difference, regardless of the direction.\n",
    "\n",
    "The choice between a one-tailed and a two-tailed test depends on the research question, the nature of the hypothesis, and the directionality of the effect you're investigating. It's important to carefully consider which test is appropriate based on the specific context of your study."
   ]
  },
  {
   "cell_type": "markdown",
   "metadata": {},
   "source": [
    "--------------------------------------------------------------------------------------------------------------------"
   ]
  },
  {
   "cell_type": "markdown",
   "metadata": {},
   "source": [
    "Q.No-03    Explain the concept of Type 1 and Type 2 errors in hypothesis testing. Provide an example scenario for\n",
    "each type of error."
   ]
  },
  {
   "cell_type": "markdown",
   "metadata": {},
   "source": [
    "Ans :-"
   ]
  },
  {
   "cell_type": "markdown",
   "metadata": {},
   "source": [
    "In hypothesis testing, Type 1 and Type 2 errors are two potential mistakes that can occur when making decisions about a population based on a sample. These errors are related to the acceptance or rejection of a null hypothesis ($H_0$) under a certain level of significance. Here's what each error represents:"
   ]
  },
  {
   "cell_type": "markdown",
   "metadata": {},
   "source": [
    "**1. `Type 1 Error (False Positive) :-`**"
   ]
  },
  {
   "cell_type": "markdown",
   "metadata": {},
   "source": [
    "A Type 1 error occurs when you incorrectly reject a true null hypothesis. In other words, you conclude that there is a significant effect or relationship when, in reality, there is no such effect or relationship in the population. This error is also known as a false positive or alpha error and is denoted by the symbol α."
   ]
  },
  {
   "cell_type": "markdown",
   "metadata": {},
   "source": [
    "*    **`Example Scenario for Type 1 Error -`**"
   ]
  },
  {
   "cell_type": "markdown",
   "metadata": {},
   "source": [
    "Imagine a pharmaceutical company testing a new drug to see if it's effective in treating a certain condition. The null hypothesis (H0) states that the drug has no effect, while the alternative hypothesis (Ha) states that the drug is effective. After conducting a clinical trial, the company finds a small improvement in the condition among the participants who took the drug. However, due to a random fluctuation or noise in the data, the improvement could have occurred by chance. If the company wrongly rejects the null hypothesis and concludes that the drug is effective, it commits a Type 1 error. In reality, the drug might not be effective, and the observed improvement might have been due to chance."
   ]
  },
  {
   "cell_type": "code",
   "execution_count": 6,
   "metadata": {},
   "outputs": [
    {
     "name": "stdout",
     "output_type": "stream",
     "text": [
      "Hypothesis Testing Results:\n",
      "Null Hypothesis: The drug has no effect.\n",
      "Alternative Hypothesis: The drug is effective.\n",
      "Significance Level (alpha): 0.05\n",
      "T-statistic: 11.963133553428964\n",
      "P-value: 7.904336215502891e-07\n",
      "Reject the null hypothesis: The drug is effective.\n"
     ]
    }
   ],
   "source": [
    "import numpy as np\n",
    "from scipy import stats\n",
    "\n",
    "# Example data for participants who took the drug\n",
    "improvements = np.array([1.5, 2.0, 0.8, 1.2, 1.0, 1.3, 1.7, 1.4, 1.6, 1.9])\n",
    "\n",
    "# Define the null hypothesis (H0) and alternative hypothesis (Ha)\n",
    "null_hypothesis = \"The drug has no effect.\"\n",
    "alternative_hypothesis = \"The drug is effective.\"\n",
    "\n",
    "# Set the significance level (alpha)\n",
    "alpha = 0.05\n",
    "\n",
    "# Perform a one-sample t-test\n",
    "t_statistic, p_value = stats.ttest_1samp(improvements, popmean=0)\n",
    "\n",
    "# Print the results\n",
    "print(\"Hypothesis Testing Results:\")\n",
    "print(\"Null Hypothesis:\", null_hypothesis)\n",
    "print(\"Alternative Hypothesis:\", alternative_hypothesis)\n",
    "print(\"Significance Level (alpha):\", alpha)\n",
    "print(\"T-statistic:\", t_statistic)\n",
    "print(\"P-value:\", p_value)\n",
    "\n",
    "# Check if the null hypothesis should be rejected based on the p-value\n",
    "if p_value < alpha:\n",
    "    print(\"Reject the null hypothesis: The drug is effective.\")\n",
    "else:\n",
    "    print(\"Fail to reject the null hypothesis: The drug has no significant effect.\")"
   ]
  },
  {
   "cell_type": "markdown",
   "metadata": {},
   "source": [
    "**2. `Type 2 Error (False Negative) :-`**"
   ]
  },
  {
   "cell_type": "markdown",
   "metadata": {},
   "source": [
    "\n",
    "A Type 2 error occurs when you fail to reject a false null hypothesis. In this case, you fail to identify a significant effect or relationship that actually exists in the population. This error is also known as a false negative or beta error and is denoted by the symbol β."
   ]
  },
  {
   "cell_type": "markdown",
   "metadata": {},
   "source": [
    "*    **`Example Scenario for Type 2 Error -`**"
   ]
  },
  {
   "cell_type": "markdown",
   "metadata": {},
   "source": [
    "Continuing with the pharmaceutical example, suppose the new drug actually has a moderate effect on the condition, but it's not very strong. The company conducts a clinical trial, but due to the variability in individual responses, the improvement observed among the participants isn't statistically significant. As a result, the company fails to reject the null hypothesis and concludes that the drug is not effective. This is a Type 2 error because the company failed to identify a true effect that existed in the population."
   ]
  },
  {
   "cell_type": "code",
   "execution_count": 7,
   "metadata": {},
   "outputs": [
    {
     "name": "stdout",
     "output_type": "stream",
     "text": [
      "Hypothesis Testing Results:\n",
      "Null Hypothesis: The drug has no effect.\n",
      "Alternative Hypothesis: The drug is effective.\n",
      "Significance Level (alpha): 0.05\n",
      "T-statistic: 11.963133553428964\n",
      "P-value: 7.904336215502891e-07\n",
      "Reject the null hypothesis: The drug is effective.\n"
     ]
    }
   ],
   "source": [
    "import numpy as np\n",
    "from scipy import stats\n",
    "\n",
    "# Example data for participants who took the drug\n",
    "improvements = np.array([1.5, 2.0, 0.8, 1.2, 1.0, 1.3, 1.7, 1.4, 1.6, 1.9])\n",
    "\n",
    "# Define the null hypothesis (H0) and alternative hypothesis (Ha)\n",
    "null_hypothesis = \"The drug has no effect.\"\n",
    "alternative_hypothesis = \"The drug is effective.\"\n",
    "\n",
    "# Set the significance level (alpha)\n",
    "alpha = 0.05\n",
    "\n",
    "# Perform a one-sample t-test\n",
    "t_statistic, p_value = stats.ttest_1samp(improvements, popmean=0)\n",
    "\n",
    "# Print the results\n",
    "print(\"Hypothesis Testing Results:\")\n",
    "print(\"Null Hypothesis:\", null_hypothesis)\n",
    "print(\"Alternative Hypothesis:\", alternative_hypothesis)\n",
    "print(\"Significance Level (alpha):\", alpha)\n",
    "print(\"T-statistic:\", t_statistic)\n",
    "print(\"P-value:\", p_value)\n",
    "\n",
    "# Check if the null hypothesis should be rejected based on the p-value\n",
    "if p_value < alpha:\n",
    "    print(\"Reject the null hypothesis: The drug is effective.\")\n",
    "else:\n",
    "    print(\"Fail to reject the null hypothesis: The drug has no significant effect.\")"
   ]
  },
  {
   "cell_type": "markdown",
   "metadata": {},
   "source": [
    "`In hypothesis testing`, there's often a trade-off between Type 1 and Type 2 errors. Adjusting the significance level (α) can influence the probabilities of these errors. Decreasing the likelihood of one type of error typically increases the likelihood of the other. The balance between these errors is a critical consideration when designing experiments and interpreting their results."
   ]
  },
  {
   "cell_type": "markdown",
   "metadata": {},
   "source": [
    "--------------------------------------------------------------------------------------------------------------------"
   ]
  },
  {
   "cell_type": "markdown",
   "metadata": {},
   "source": [
    "Q.No-04    Explain Bayes's theorem with an example."
   ]
  },
  {
   "cell_type": "markdown",
   "metadata": {},
   "source": [
    "Ans :-"
   ]
  },
  {
   "cell_type": "markdown",
   "metadata": {},
   "source": [
    "**`Bayes's Theorem`** is a fundamental concept in probability theory and statistics. It describes how to update our beliefs or probabilities about an event when new evidence or information becomes available. The theorem is named after the Reverend Thomas Bayes, who introduced the idea of updating probabilities based on new data."
   ]
  },
  {
   "cell_type": "markdown",
   "metadata": {},
   "source": [
    "    Mathematically, Bayes's Theorem is stated as follows:"
   ]
  },
  {
   "cell_type": "markdown",
   "metadata": {},
   "source": [
    "$$ P(A|B) = \\frac{P(B|A) \\cdot P(A)}{P(B)} $$"
   ]
  },
  {
   "cell_type": "markdown",
   "metadata": {},
   "source": [
    "    Where:\n",
    "- $ P(A|B) $ is the probability of event A occurring given that event B has occurred.\n",
    "- $ P(B|A) $ is the probability of event B occurring given that event A has occurred.\n",
    "- $ P(A) $ is the prior probability of event A occurring.\n",
    "- $ P(B) $ is the prior probability of event B occurring."
   ]
  },
  {
   "cell_type": "markdown",
   "metadata": {},
   "source": [
    "    Now, let's illustrate Bayes's Theorem with a classic example known as the \"diagnostic test\" scenario:"
   ]
  },
  {
   "cell_type": "markdown",
   "metadata": {},
   "source": [
    "Imagine you're a doctor and you have a patient who is exhibiting symptoms that could be associated with a rare disease. Let's call the disease \"Disease X.\" The prevalence of Disease X in the general population is very low, say 1 in 1000 people (0.1%)."
   ]
  },
  {
   "cell_type": "markdown",
   "metadata": {},
   "source": [
    "You have a diagnostic test for Disease X, but it's not perfect. The test has a sensitivity of 95%, meaning it correctly identifies 95% of the people who actually have Disease X. It also has a specificity of 90%, meaning it correctly identifies 90% of the people who do not have the disease."
   ]
  },
  {
   "cell_type": "markdown",
   "metadata": {},
   "source": [
    "`Now, let's use Bayes's Theorem to calculate the probability that a patient actually has Disease X given that the test comes back positive` (i.e., $ P(Disease\\ X|Positive\\ Test) $):"
   ]
  },
  {
   "cell_type": "markdown",
   "metadata": {},
   "source": [
    "- $ P(Disease\\ X) = 0.001 $ (prevalence of the disease in the population)\n",
    "- $ P(Positive\\ Test|Disease\\ X) = 0.95 $ (sensitivity of the test)\n",
    "- $ P(Positive\\ Test|No\\ Disease\\ X) = 0.10 $ (1 - specificity of the test)\n",
    "- $ P(No\\ Disease\\ X) = 1 - P(Disease\\ X) = 0.999 $"
   ]
  },
  {
   "cell_type": "markdown",
   "metadata": {},
   "source": [
    "`To calculate` $ P(Positive\\ Test) $, `we use the law of total probability:`"
   ]
  },
  {
   "cell_type": "markdown",
   "metadata": {},
   "source": [
    "$P(Positive\\ Test) = P(Positive\\ Test|Disease_X) * P(Disease\\ X) + P(Positive\\ Test|No\\ Disease\\ X * \n",
    "P(No\\ Disease\\ X))$"
   ]
  },
  {
   "cell_type": "markdown",
   "metadata": {},
   "source": [
    "`Now plug these values into Bayes's Theorem:`"
   ]
  },
  {
   "cell_type": "markdown",
   "metadata": {},
   "source": [
    "$ P(Disease\\ X|Positive\\ Test) = \\frac{P(Positive\\ Test|Disease\\ X) \\cdot P(Disease\\ X)}{P(Positive\\ Test)} $"
   ]
  },
  {
   "cell_type": "markdown",
   "metadata": {},
   "source": [
    "    Substitute the values and calculate to get the result."
   ]
  },
  {
   "cell_type": "markdown",
   "metadata": {},
   "source": [
    "By plugging in the numbers, you can see how Bayes's Theorem allows you to update your belief about the likelihood of having the disease based on the test result. Even though the test is not perfect, the probability of having the disease increases significantly if the test comes back positive, due to the low prevalence of the disease in the population."
   ]
  },
  {
   "cell_type": "markdown",
   "metadata": {},
   "source": [
    "**`In Python`**"
   ]
  },
  {
   "cell_type": "code",
   "execution_count": 8,
   "metadata": {},
   "outputs": [
    {
     "name": "stdout",
     "output_type": "stream",
     "text": [
      "Given data:\n",
      "Prevalence of Disease X: 0.001\n",
      "Sensitivity of the test: 0.95\n",
      "Specificity of the test: 0.9\n",
      "\n",
      "Calculations:\n",
      "Probability of not having Disease X: 0.999\n",
      "Probability of a positive test result: 0.10085000000000001\n",
      "Probability of having Disease X given a positive test result: 0.009420\n",
      "\n",
      "Conclusion:\n",
      "The probability of having Disease X is low given the positive test result.\n"
     ]
    }
   ],
   "source": [
    "# Given data\n",
    "p_disease_x = 0.001  # Prevalence of Disease X\n",
    "p_positive_given_disease_x = 0.95  # Sensitivity of the test\n",
    "p_positive_given_no_disease_x = 0.10  # 1 - Specificity of the test\n",
    "\n",
    "# Calculate the complement probabilities\n",
    "p_no_disease_x = 1 - p_disease_x\n",
    "\n",
    "# Calculate the denominator of Bayes's Theorem\n",
    "p_positive_test = (p_positive_given_disease_x * p_disease_x) + (p_positive_given_no_disease_x * p_no_disease_x)\n",
    "\n",
    "# Calculate the posterior probability using Bayes's Theorem\n",
    "p_disease_x_given_positive_test = (p_positive_given_disease_x * p_disease_x) / p_positive_test\n",
    "\n",
    "# Conclusion based on the result\n",
    "if p_disease_x_given_positive_test > 0.5:\n",
    "    conclusion = \"The probability of having Disease X is high given the positive test result.\"\n",
    "else:\n",
    "    conclusion = \"The probability of having Disease X is low given the positive test result.\"\n",
    "\n",
    "print(\"Given data:\")\n",
    "print(f\"Prevalence of Disease X: {p_disease_x}\")\n",
    "print(f\"Sensitivity of the test: {p_positive_given_disease_x}\")\n",
    "print(f\"Specificity of the test: {1 - p_positive_given_no_disease_x}\\n\")\n",
    "\n",
    "print(\"Calculations:\")\n",
    "print(f\"Probability of not having Disease X: {p_no_disease_x}\")\n",
    "print(f\"Probability of a positive test result: {p_positive_test}\")\n",
    "print(f\"Probability of having Disease X given a positive test result: {p_disease_x_given_positive_test:.6f}\\n\")\n",
    "\n",
    "print(\"Conclusion:\")\n",
    "print(conclusion)"
   ]
  },
  {
   "cell_type": "markdown",
   "metadata": {},
   "source": [
    "--------------------------------------------------------------------------------------------------------------------"
   ]
  },
  {
   "cell_type": "markdown",
   "metadata": {},
   "source": [
    "Q.No-05    What is a confidence interval? How to calculate the confidence interval, explain with an example."
   ]
  },
  {
   "cell_type": "markdown",
   "metadata": {},
   "source": [
    "Ans :-"
   ]
  },
  {
   "cell_type": "markdown",
   "metadata": {},
   "source": [
    "**`A confidence interval`** is a statistical range that provides an estimate of the true value of a population parameter, such as a mean or a proportion, along with a level of confidence in the accuracy of that estimate. It quantifies the uncertainty associated with estimating a population parameter based on a sample from that population. The confidence interval consists of two values: a lower bound and an upper bound, which define a range within which the true parameter value is likely to fall."
   ]
  },
  {
   "cell_type": "markdown",
   "metadata": {},
   "source": [
    "The level of confidence associated with the interval (usually expressed as a percentage) indicates the probability that the true parameter value lies within the calculated interval. For example, a 95% confidence interval implies that if we were to repeat the sampling and calculation process many times, about 95% of those intervals would contain the true parameter value."
   ]
  },
  {
   "cell_type": "markdown",
   "metadata": {},
   "source": [
    "    Calculating a confidence interval involves the following steps -"
   ]
  },
  {
   "cell_type": "markdown",
   "metadata": {},
   "source": [
    "1. **`Collect a Sample`**: Gather a random sample from the population of interest.\n",
    "\n",
    "2. **`Calculate the Sample Statistic`**: Compute the sample statistic (e.g., sample mean, sample proportion) that you want to estimate.\n",
    "\n",
    "3. **`Determine the Confidence Level`**: Choose a desired level of confidence (e.g., 90%, 95%, 99%).\n",
    "\n",
    "4. **`Find the Critical Value`**: Based on the chosen confidence level and the distribution of the sample statistic (usually a t-distribution or normal distribution), find the critical value that corresponds to the chosen confidence level.\n",
    "\n",
    "5. **`Calculate the Margin of Error`**: The margin of error is calculated by multiplying the critical value by the standard error of the sample statistic. The standard error quantifies the variability of the sample statistic.\n",
    "\n",
    "6. **`Calculate the Confidence Interval`**: The lower bound of the confidence interval is the sample statistic minus the margin of error, and the upper bound is the sample statistic plus the margin of error."
   ]
  },
  {
   "cell_type": "markdown",
   "metadata": {},
   "source": [
    "`Now, let's go through an example of calculating a confidence interval for the population mean -`"
   ]
  },
  {
   "cell_type": "markdown",
   "metadata": {},
   "source": [
    "**Example :-**"
   ]
  },
  {
   "cell_type": "markdown",
   "metadata": {},
   "source": [
    "Suppose we want to estimate the average height of a certain species of trees in a forest. We collect a random sample of 50 trees and measure their heights. The sample mean height is 180 cm, and the sample standard deviation is 12 cm."
   ]
  },
  {
   "cell_type": "markdown",
   "metadata": {},
   "source": [
    "1. **`Sample Statistic`** - Sample mean (x̄) = 180 cm\n",
    "2. **`Sample Size`** ($n$) - 50\n",
    "3. **`Desired Confidence Level`** - 95%\n",
    "\n",
    "4. **`Critical Value`** - Since the sample size is relatively large (n > 30), we can use the standard normal distribution. For a 95% confidence level, the critical value is approximately 1.96 (consulting a z-table or using a statistical calculator).\n",
    "\n",
    "5. **`Margin of Error`** -\n",
    "\n",
    "   **Margin of Error** = Critical Value * (Sample Standard Deviation / √n)\n",
    "   \n",
    "   **Margin of Error** = 1.96 * (12 / √50) ≈ 3.38 cm\n",
    "\n",
    "6. **`Confidence Interval`** -\n",
    "\n",
    "   **Lower Bound** = Sample Mean - Margin of Error = 180 - 3.38 ≈ 176.62 cm\n",
    "   \n",
    "   **Upper Bound** = Sample Mean + Margin of Error = 180 + 3.38 ≈ 183.38 cm"
   ]
  },
  {
   "cell_type": "markdown",
   "metadata": {},
   "source": [
    "So, with 95% confidence, we can say that the true average height of the trees in the forest is likely to fall within the range of approximately 176.62 cm to 183.38 cm."
   ]
  },
  {
   "cell_type": "code",
   "execution_count": 9,
   "metadata": {},
   "outputs": [
    {
     "name": "stdout",
     "output_type": "stream",
     "text": [
      "Given Data :-\n",
      "Sample Mean:  180 inches\n",
      "Std Dev. of Sample:  12\n",
      "Sample Size:  50\n",
      "Confidence Level:  95.0 %\n",
      "\n",
      "Calculation :-\n",
      "Critical Value:  1.959963984540054\n",
      "Margin Of Error: 3.3261691784392267 inches\n",
      "\n",
      "Confidence Interval :-\n",
      "Lower Bound: 176.67\n",
      "Upper Bound: 183.33\n"
     ]
    }
   ],
   "source": [
    "import scipy.stats as stats\n",
    "import math\n",
    "\n",
    "print(\"Given Data :-\")\n",
    "# Sample statistics\n",
    "sample_mean = 180  # Sample mean height\n",
    "print(\"Sample Mean: \",sample_mean, \"inches\")\n",
    "\n",
    "sample_stddev = 12  # Sample standard deviation\n",
    "print(\"Std Dev. of Sample: \",sample_stddev)\n",
    "\n",
    "sample_size = 50  # Sample size\n",
    "print(\"Sample Size: \",sample_size)\n",
    "\n",
    "# Desired confidence level\n",
    "confidence_level = 0.95\n",
    "print(\"Confidence Level: \",confidence_level*100,\"%\")\n",
    "\n",
    "\n",
    "print(\"\\nCalculation :-\")\n",
    "# Calculate the critical value (using the standard normal distribution)\n",
    "critical_value = stats.norm.ppf((1 + confidence_level) / 2)\n",
    "print(\"Critical Value: \",critical_value)\n",
    "\n",
    "# Calculate the margin of error\n",
    "margin_of_error = critical_value * (sample_stddev / math.sqrt(sample_size))\n",
    "print('Margin Of Error:', margin_of_error, 'inches')\n",
    "\n",
    "# Calculate the confidence interval\n",
    "lower_bound = sample_mean - margin_of_error\n",
    "upper_bound = sample_mean + margin_of_error\n",
    "\n",
    "# Print the results\n",
    "print(\"\\nConfidence Interval :-\")\n",
    "print(f\"Lower Bound: {lower_bound:.2f}\")\n",
    "print(f\"Upper Bound: {upper_bound:.2f}\")"
   ]
  },
  {
   "cell_type": "markdown",
   "metadata": {},
   "source": [
    "--------------------------------------------------------------------------------------------------------------------"
   ]
  },
  {
   "cell_type": "markdown",
   "metadata": {},
   "source": [
    "Q.No-06    Use Bayes' Theorem to calculate the probability of an event occurring given prior knowledge of the event's probability and new evidence. Provide a sample problem and solution."
   ]
  },
  {
   "cell_type": "markdown",
   "metadata": {},
   "source": [
    "Ans :-"
   ]
  },
  {
   "cell_type": "markdown",
   "metadata": {},
   "source": [
    "**`The formula Bayes' Theorem :-`**"
   ]
  },
  {
   "cell_type": "markdown",
   "metadata": {},
   "source": [
    "$$ P(A|B) = \\frac{P(B|A) \\cdot P(A)}{P(B)} $$"
   ]
  },
  {
   "cell_type": "markdown",
   "metadata": {},
   "source": [
    "    Where -\n",
    "- $ P(A|B) $ is the posterior probability of event A occurring given evidence B.\n",
    "- $ P(B|A) $ is the probability of observing evidence B given that event A has occurred.\n",
    "- $ P(A) $ is the prior probability of event A occurring.\n",
    "- $ P(B) $ is the probability of observing evidence B."
   ]
  },
  {
   "cell_type": "markdown",
   "metadata": {},
   "source": [
    "**`Sample Problem :-` Medical Test**"
   ]
  },
  {
   "cell_type": "markdown",
   "metadata": {},
   "source": [
    "Suppose a certain medical condition affects 1% of the population. A diagnostic test for this condition has a sensitivity of 95% (correctly identifies the condition in 95% of cases) and a specificity of 90% (correctly identifies the absence of the condition in 90% of cases). If a person tests positive for the condition, what is the probability that they actually have the condition?"
   ]
  },
  {
   "cell_type": "markdown",
   "metadata": {},
   "source": [
    "**`Solution :-`**"
   ]
  },
  {
   "cell_type": "markdown",
   "metadata": {},
   "source": [
    "    Let's define the events -\n",
    "- Event A: Having the medical condition.\n",
    "- Event B: Testing positive for the condition."
   ]
  },
  {
   "cell_type": "markdown",
   "metadata": {},
   "source": [
    "    Given data -\n",
    "- $ P(A) = 0.01 $ (1% of the population has the condition)\n",
    "- $ P(B|A) = 0.95 $ (sensitivity - the probability of testing positive given that the person has the condition)\n",
    "- $ P(\\neg A) = 1 - P(A) = 0.99 $ (probability of not having the condition)\n",
    "- $ P(B|\\neg A) = 1 - 0.90 = 0.10 $ (specificity - the probability of testing positive given that the person does not have the condition)"
   ]
  },
  {
   "cell_type": "markdown",
   "metadata": {},
   "source": [
    "We have to find $ P(A|B) $, the probability of having the condition given that the person tested positive."
   ]
  },
  {
   "cell_type": "markdown",
   "metadata": {},
   "source": [
    "    Using Bayes' Theorem -\n",
    "    \n",
    "$ P(A|B) = \\frac{P(B|A) \\cdot P(A)}{P(B)} $"
   ]
  },
  {
   "cell_type": "markdown",
   "metadata": {},
   "source": [
    "`We have to calculate` $ P(B) $ `using the law of total probability -`\n",
    "\n",
    "$ P(B) = P(B|A) \\cdot P(A) + P(B|\\neg A) \\cdot P(\\neg A) $"
   ]
  },
  {
   "cell_type": "markdown",
   "metadata": {},
   "source": [
    "    Substitute the values -\n",
    "    \n",
    "$ P(B) = (0.95 \\cdot 0.01) + (0.10 \\cdot 0.99) = 0.1085 $"
   ]
  },
  {
   "cell_type": "markdown",
   "metadata": {},
   "source": [
    "    Now, plug into Bayes' Theorem -\n",
    "\n",
    "$ P(A|B) = \\frac{0.95 \\cdot 0.01}{0.1085} = 0.0875576036866$"
   ]
  },
  {
   "cell_type": "markdown",
   "metadata": {},
   "source": [
    "So, if a person tests positive for the medical condition, the probability that they actually have the condition is approximately 8.75%."
   ]
  },
  {
   "cell_type": "code",
   "execution_count": 10,
   "metadata": {},
   "outputs": [
    {
     "name": "stdout",
     "output_type": "stream",
     "text": [
      "Given Data :-\n",
      "\n",
      "P_A =  0.01 \n",
      "( 1.0 % of the population has the condition)\n",
      "\n",
      "P_B_given_A =  0.95 \n",
      "(sensitivity - the probability of testing positive given that the person has the condition)\n",
      "\n",
      "P_not_A =  0.99 \n",
      "(probability of not having the condition)\n",
      "\n",
      "P_B_given_not_A =  0.1 \n",
      "(specificity - the probability of testing positive given that the person does not have the condition)\n",
      "\n",
      "\n",
      "Calculation :-\n",
      "\n",
      "P_B =  0.1085\n",
      "\n",
      "P_A_given_B =  0.08755760368663594\n",
      "\n",
      "\n",
      "Result :-\n",
      "\n",
      "The probability of having the condition given a positive test result is: 8.755760368663594 %\n"
     ]
    }
   ],
   "source": [
    "# Given data\n",
    "print(\"Given Data :-\")\n",
    "\n",
    "P_A = 0.01  # Probability of having the condition\n",
    "print(\"\\nP_A = \",P_A, \"\\n(\",P_A*100,\"% of the population has the condition)\")\n",
    "\n",
    "P_B_given_A = 0.95  # Sensitivity\n",
    "print(\"\\nP_B_given_A = \",P_B_given_A, \"\\n(sensitivity - the probability of testing positive given that the person has the condition)\")\n",
    "\n",
    "P_not_A = 1 - P_A  # Probability of not having the condition\n",
    "print(\"\\nP_not_A = \",P_not_A,\"\\n(probability of not having the condition)\")\n",
    "\n",
    "P_B_given_not_A = round((1- 0.90), 2)  # Specificity\n",
    "print(\"\\nP_B_given_not_A = \",P_B_given_not_A,\"\\n(specificity - the probability of testing positive given that the person does not have the condition)\")\n",
    "\n",
    "print(\"\\n\\nCalculation :-\")\n",
    "# Calculate P(B) using law of total probability\n",
    "P_B = (P_B_given_A * P_A) + (P_B_given_not_A * P_not_A)\n",
    "print(\"\\nP_B = \",P_B)\n",
    "\n",
    "# Calculate P(A|B) using Bayes' Theorem\n",
    "P_A_given_B = (P_B_given_A * P_A) / P_B\n",
    "print(\"\\nP_A_given_B = \", P_A_given_B)\n",
    "\n",
    "\n",
    "print(\"\\n\\nResult :-\")\n",
    "print(\"\\nThe probability of having the condition given a positive test result is:\", P_A_given_B*100,\"%\")"
   ]
  },
  {
   "cell_type": "markdown",
   "metadata": {},
   "source": [
    "--------------------------------------------------------------------------------------------------------------------"
   ]
  },
  {
   "cell_type": "markdown",
   "metadata": {},
   "source": [
    "Q.No-07    Calculate the 95% confidence interval for a sample of data with a mean of 50 and a standard deviation of 5 Interpret the results."
   ]
  },
  {
   "cell_type": "markdown",
   "metadata": {},
   "source": [
    "Ans :-"
   ]
  },
  {
   "cell_type": "code",
   "execution_count": 11,
   "metadata": {},
   "outputs": [
    {
     "name": "stdout",
     "output_type": "stream",
     "text": [
      "Given Data :-\n",
      "Sample Mean =  50\n",
      "Std Dev. of Sample =  5\n",
      "Confidence Level =  0.95\n",
      "Assuming a sample size (you need to provide this value)\n",
      "Sample Size =  100\n",
      "\n",
      "Calculation :-\n",
      "Standard Error =  0.5\n",
      "Z Score =  1.959963984540054\n",
      "Margin Of Error =  0.979981992270027\n",
      "Confidence Interval -\n",
      "Lower bound: 49.02\n",
      "Upper bound: 50.98\n",
      "\n",
      "Conclusion :-\n",
      "I am 95.0% confident that the true population mean is between 49.02 and 50.98.\n"
     ]
    }
   ],
   "source": [
    "import scipy.stats as stats\n",
    "\n",
    "print(\"Given Data :-\")\n",
    "# Given data\n",
    "sample_mean = 50\n",
    "print(\"Sample Mean = \",sample_mean)\n",
    "\n",
    "standard_deviation = 5\n",
    "print(\"Std Dev. of Sample = \",standard_deviation)\n",
    "\n",
    "confidence_level = 0.95  # 95% confidence level\n",
    "print(\"Confidence Level = \",confidence_level)\n",
    "\n",
    "print(\"Assuming a sample size (you need to provide this value)\")\n",
    "sample_size = 100\n",
    "print(\"Sample Size = \",sample_size)\n",
    "\n",
    "print(\"\\nCalculation :-\")\n",
    "# Calculate the standard error\n",
    "standard_error = standard_deviation / (sample_size ** 0.5)\n",
    "print(\"Standard Error = \",standard_error)\n",
    "\n",
    "# Calculate the margin of error using the Z-score for a 95% confidence level\n",
    "z_score = stats.norm.ppf(1 - (1 - confidence_level) / 2)\n",
    "print(\"Z Score = \",z_score)\n",
    "margin_of_error = z_score * standard_error\n",
    "print(\"Margin Of Error = \",margin_of_error)\n",
    "\n",
    "# Calculate the confidence interval\n",
    "lower_bound = sample_mean - margin_of_error\n",
    "upper_bound = sample_mean + margin_of_error\n",
    "\n",
    "# Interpretation\n",
    "print(\"Confidence Interval -\")\n",
    "print(f\"Lower bound: {lower_bound:.2f}\")\n",
    "print(f\"Upper bound: {upper_bound:.2f}\")\n",
    "\n",
    "print(\"\\nConclusion :-\")\n",
    "print(f\"I am {confidence_level*100}% confident that the true population mean is between {lower_bound:.2f} and {upper_bound:.2f}.\")"
   ]
  },
  {
   "cell_type": "markdown",
   "metadata": {},
   "source": [
    "--------------------------------------------------------------------------------------------------------------------"
   ]
  },
  {
   "cell_type": "markdown",
   "metadata": {},
   "source": [
    "Q.No-08    What is the margin of error in a confidence interval? How does sample size affect the margin of error? Provide an example of a scenario where a larger sample size would result in a smaller margin of error."
   ]
  },
  {
   "cell_type": "markdown",
   "metadata": {},
   "source": [
    "Ans :-"
   ]
  },
  {
   "cell_type": "markdown",
   "metadata": {},
   "source": [
    "**`The Margin of Error` (MoE)** in a **`confidence interval` (CI)** is a measure of the range within which we can reasonably expect the true population parameter to lie, based on a sample from that population. It quantifies the uncertainty associated with estimating a population parameter (such as a mean or proportion) from a sample. The margin of error is usually expressed as a positive value and is determined by the confidence level and the variability of the data."
   ]
  },
  {
   "cell_type": "markdown",
   "metadata": {},
   "source": [
    "The formula for **`The Margin of Error`** is often given by:"
   ]
  },
  {
   "cell_type": "markdown",
   "metadata": {},
   "source": [
    "$ Margin\\ of\\ Error = Critical\\ Value × Standard\\ Error $"
   ]
  },
  {
   "cell_type": "markdown",
   "metadata": {},
   "source": [
    "**1. `Critical Value :-`** This is determined by the desired confidence level. For instance, if you're constructing a 95% confidence interval, the critical value corresponds to the Z-score that leaves 2.5% in the tails of the distribution (since 95% - 2.5% = 92.5% falls within the confidence interval)."
   ]
  },
  {
   "cell_type": "markdown",
   "metadata": {},
   "source": [
    "**2. `Standard Error :-`** This is a measure of the variability of the sample data. It's usually calculated based on the sample size and the standard deviation of the sample. The standard error essentially quantifies how much the sample mean (or other statistic) is expected to vary from the true population parameter."
   ]
  },
  {
   "cell_type": "markdown",
   "metadata": {},
   "source": [
    "**`The sample size directly affects the margin of error`**. As the sample size increases, the margin of error decreases. This is because larger sample sizes lead to more precise estimates of the population parameter. A larger sample size provides more information about the population's variability, which reduces the uncertainty in the estimation."
   ]
  },
  {
   "cell_type": "markdown",
   "metadata": {},
   "source": [
    "**`Example :-`**"
   ]
  },
  {
   "cell_type": "markdown",
   "metadata": {},
   "source": [
    "Let's Conducting a survey to estimate the average income of a certain population. We Decide to use a 95% confidence level. We Collect data from two scenarios:\n",
    "\n",
    "**Scenario A**: Sample size = 100\n",
    "\n",
    "**Scenario B**: Sample size = 1000"
   ]
  },
  {
   "cell_type": "markdown",
   "metadata": {},
   "source": [
    "`For both scenarios`,"
   ]
  },
  {
   "cell_type": "markdown",
   "metadata": {},
   "source": [
    "We calculate the mean income and the standard deviation of the incomes in the sample. The standard error in each case is calculated as the standard deviation divided by the square root of the sample size."
   ]
  },
  {
   "cell_type": "markdown",
   "metadata": {},
   "source": [
    "`Given Data`,"
   ]
  },
  {
   "cell_type": "markdown",
   "metadata": {},
   "source": [
    "**Confidence level** = 0.95\n",
    "\n",
    "**Critical value** = Approximately 1.96"
   ]
  },
  {
   "cell_type": "markdown",
   "metadata": {},
   "source": [
    "Let's Assuming that the true population mean income is $50,000, and the standard deviation of incomes is $10,000 in both scenarios.Then,"
   ]
  },
  {
   "cell_type": "markdown",
   "metadata": {},
   "source": [
    "Mean of incomes for Scenario A & Scenario B = 50000\n",
    "standard deviation of incomes for Scenario A & Scenario B = 10000"
   ]
  },
  {
   "cell_type": "markdown",
   "metadata": {},
   "source": [
    "- Scenario A: The margin of error = 1.96 × (standard error) = 1.96 × ($10,000 / √100) = $1,960\n",
    "- Scenario B: The margin of error = 1.96 × (standard error) = 1.96 × ($10,000 / √1000) = $619.61"
   ]
  },
  {
   "cell_type": "markdown",
   "metadata": {},
   "source": [
    "As We can see that the margin of error in Scenario B is significantly smaller than in Scenario A due to the larger sample size. This means that we can be more confident that the true population mean income lies within a narrower range around our sample mean in Scenario B compared to Scenario A."
   ]
  },
  {
   "cell_type": "markdown",
   "metadata": {},
   "source": [
    "**In Python -**"
   ]
  },
  {
   "cell_type": "code",
   "execution_count": 12,
   "metadata": {},
   "outputs": [
    {
     "name": "stdout",
     "output_type": "stream",
     "text": [
      "Given :-\n",
      "Sample Size of Scenario A =  100\n",
      "Sample Size of Scenario B =  1000\n",
      "Confidence Level =  0.95\n",
      "\n",
      "Let's Assuming The Population Mean and The Population Standard Deviation :-\n",
      "Population Mean =  50000\n",
      "Population Standard Deviation =  10000\n",
      "\n",
      "Calculation :-\n",
      "Critical Value = 1.96\n",
      "\n",
      "Scenario A:\n",
      "Sample Mean Of Scenario A =  50000\n",
      "Sample Std Dev Of Scenario A =  1000.0\n",
      "Margin of Error Scenario A = 1959.96\n",
      "Confidence Interval = 48040.04 to 51959.96\n",
      "\n",
      "Scenario B:\n",
      "Sample Mean Of Scenario B =  50000\n",
      "Sample Std Dev Of Scenario B =  316.22776601683796\n",
      "Margin of Error Scenario B = 619.80\n",
      "Confidence Interval = 49380.20 to 50619.80\n",
      "\n",
      "Conclusion :-\n",
      "The Margin of Error in Scenario A '1959.96' is significantly larger due to the smaller sample size '100'.\n",
      "The Margin of Error in Scenario A '619.80' is significantly larger due to the smaller sample size '1000'.\n"
     ]
    }
   ],
   "source": [
    "import numpy as np\n",
    "from scipy import stats\n",
    "\n",
    "# Given\n",
    "print(\"Given :-\")\n",
    "Sample_Size_of_Scenario_A = 100\n",
    "print(\"Sample Size of Scenario A = \",Sample_Size_of_Scenario_A)\n",
    "\n",
    "Sample_Size_of_Scenario_B = 1000\n",
    "print(\"Sample Size of Scenario B = \",Sample_Size_of_Scenario_B)\n",
    "\n",
    "Confidence_Level = 0.95\n",
    "print(\"Confidence Level = \",Confidence_Level)\n",
    "\n",
    "\n",
    "print(\"\\nLet's Assuming The Population Mean and The Population Standard Deviation :-\")\n",
    "# Let's Assuming that the true population mean income \n",
    "Population_Mean = 50000\n",
    "print(\"Population Mean = \",Population_Mean)\n",
    "\n",
    "# Let's Assuming that the true population standard deviation income\n",
    "Population_StdDev = 10000\n",
    "print(\"Population Standard Deviation = \",Population_StdDev)\n",
    "\n",
    "\n",
    "# Calculation\n",
    "print(\"\\nCalculation :-\")\n",
    "Critical_Value = stats.norm.ppf((1 + Confidence_Level) / 2)\n",
    "print(f\"Critical Value = {Critical_Value:.2f}\")\n",
    "\n",
    "# Scenario A\n",
    "print(\"\\nScenario A:\")\n",
    "Sample_Mean_of_Scenario_A = Population_Mean\n",
    "print( \"Sample Mean Of Scenario A = \", Sample_Mean_of_Scenario_A )\n",
    "Sample_StdDev_of_Scenario_A = Population_StdDev / np.sqrt(Sample_Size_of_Scenario_A)\n",
    "print (\"Sample Std Dev Of Scenario A = \", Sample_StdDev_of_Scenario_A)\n",
    "Margin_of_Error_Scenario_A = Critical_Value * Sample_StdDev_of_Scenario_A\n",
    "print(f\"Margin of Error Scenario A = {Margin_of_Error_Scenario_A:.2f}\")\n",
    "Confidence_Interval_Scenario_A = (Population_Mean - Margin_of_Error_Scenario_A, Population_Mean + Margin_of_Error_Scenario_A)\n",
    "print(f\"Confidence Interval = {Confidence_Interval_Scenario_A[0]:.2f} to {Confidence_Interval_Scenario_A[1]:.2f}\")\n",
    "\n",
    "# Scenario B\n",
    "print(\"\\nScenario B:\")\n",
    "Sample_Mean_of_Scenario_B = Population_Mean\n",
    "print (\"Sample Mean Of Scenario B = \", Sample_Mean_of_Scenario_B )\n",
    "Sample_StdDev_of_Scenario_B = Population_StdDev / np.sqrt(Sample_Size_of_Scenario_B)\n",
    "print (\"Sample Std Dev Of Scenario B = \", Sample_StdDev_of_Scenario_B)\n",
    "Margin_of_Error_Scenario_B = critical_value * Sample_StdDev_of_Scenario_B\n",
    "print(f\"Margin of Error Scenario B = {Margin_of_Error_Scenario_B:.2f}\")\n",
    "Confidence_Interval_Scenario_B = (Population_Mean - Margin_of_Error_Scenario_B, Population_Mean + Margin_of_Error_Scenario_B)\n",
    "print(f\"Confidence Interval = {Confidence_Interval_Scenario_B[0]:.2f} to {Confidence_Interval_Scenario_B[1]:.2f}\")\n",
    "\n",
    "# Conclusion\n",
    "print(\"\\nConclusion :-\")\n",
    "print(f\"The Margin of Error in Scenario A '{Margin_of_Error_Scenario_A:.2f}' is significantly larger due to the smaller sample size '{Sample_Size_of_Scenario_A}'.\")\n",
    "print(f\"The Margin of Error in Scenario A '{Margin_of_Error_Scenario_B:.2f}' is significantly larger due to the smaller sample size '{Sample_Size_of_Scenario_B}'.\")\n"
   ]
  },
  {
   "cell_type": "markdown",
   "metadata": {},
   "source": [
    "-------------------------------------------------------------------------------------------------------------------------------------------------"
   ]
  },
  {
   "cell_type": "markdown",
   "metadata": {},
   "source": [
    "q.No-09    Calculate the z-score for a data point with a value of 75, a population mean of 70, and a population standard deviation of 5. Interpret the results."
   ]
  },
  {
   "cell_type": "markdown",
   "metadata": {},
   "source": [
    "Ans :-"
   ]
  },
  {
   "cell_type": "markdown",
   "metadata": {},
   "source": [
    "$$ The formula fo Z-Score $$"
   ]
  },
  {
   "cell_type": "markdown",
   "metadata": {},
   "source": [
    "$$ z = \\frac{x - \\mu}{\\sigma} $$"
   ]
  },
  {
   "cell_type": "markdown",
   "metadata": {},
   "source": [
    "**`Where` :-**\n",
    "- $ x $ is the data point value (75 in this case)\n",
    "- $ \\mu $ is the population mean (70 in this case)\n",
    "- $ \\sigma $ is the population standard deviation (5 in this case)\n",
    "- $ z $ is the calculated z-score"
   ]
  },
  {
   "cell_type": "markdown",
   "metadata": {},
   "source": [
    "**`Let's Calculate the Z-Score` :-**"
   ]
  },
  {
   "cell_type": "markdown",
   "metadata": {},
   "source": [
    "$$ z = \\frac{75 - 70}{5} = \\frac{5}{5} = 1 $$"
   ]
  },
  {
   "cell_type": "markdown",
   "metadata": {},
   "source": [
    "$$ z-score = 1 $$"
   ]
  },
  {
   "cell_type": "code",
   "execution_count": 13,
   "metadata": {},
   "outputs": [
    {
     "name": "stdout",
     "output_type": "stream",
     "text": [
      "The calculated z-score : 1.0\n"
     ]
    }
   ],
   "source": [
    "data_point = 75\n",
    "population_mean = 70\n",
    "population_std_dev = 5\n",
    "\n",
    "z_score = (data_point - population_mean) / population_std_dev\n",
    "\n",
    "print(\"The calculated z-score :\", z_score)"
   ]
  },
  {
   "cell_type": "markdown",
   "metadata": {},
   "source": [
    "**`Interpretation` :-**"
   ]
  },
  {
   "cell_type": "markdown",
   "metadata": {},
   "source": [
    "A **Z-Score** of 1 indicates that the data point (75) is 1 **Standard Deviation** above the **Population Mean** (70). In other words, it is higher than the average value by one standard deviation. This suggests that the data point is relatively higher than the majority of the data points in the population. Z-scores are useful for understanding how individual data points compare to the overall distribution of the data in terms of standard deviations."
   ]
  },
  {
   "cell_type": "markdown",
   "metadata": {},
   "source": [
    "-------------------------------------------------------------------------------------------------------------------------------------------------"
   ]
  },
  {
   "cell_type": "markdown",
   "metadata": {},
   "source": [
    "Q.No-10    In a study of the effectiveness of a new weight loss drug, a sample of 50 participants lost an average of 6 pounds with a standard deviation of 2.5 pounds. Conduct a hypothesis test to determine if the drug is significantly effective at a 95% confidence level using a t-test."
   ]
  },
  {
   "cell_type": "markdown",
   "metadata": {},
   "source": [
    "Ans :-"
   ]
  },
  {
   "cell_type": "markdown",
   "metadata": {},
   "source": [
    "To conduct a hypothesis test using a t-test to determine if the weight loss drug is significantly effective, we need to set up the null and alternative hypotheses and calculate the t-statistic and p-value based on the sample data. The null hypothesis ($H_0$) usually states that there is no significant effect, while the alternative hypothesis ($H_1$) states that there is a significant effect."
   ]
  },
  {
   "cell_type": "markdown",
   "metadata": {},
   "source": [
    "**`Solution` :-**"
   ]
  },
  {
   "cell_type": "markdown",
   "metadata": {},
   "source": [
    "**Null Hypothesis** ($H_0$) : The new weight loss drug is not significantly effective."
   ]
  },
  {
   "cell_type": "markdown",
   "metadata": {},
   "source": [
    "**Alternative Hypothesis** ($H_1$) : The new weight loss drug is significantly effective."
   ]
  },
  {
   "cell_type": "markdown",
   "metadata": {},
   "source": [
    "**`Given` :-**\n",
    "-    Sample size = 50 \n",
    "-    Sample mean = 6 pounds \n",
    "-    Standard deviation = 2.5 pounds\n",
    "\n",
    " we will use a t-test for a single sample mean. Since the population standard deviation is not known, we will use the t-distribution."
   ]
  },
  {
   "cell_type": "markdown",
   "metadata": {},
   "source": [
    "**The formula of the `t-statistic` :-**\n",
    "\n",
    "$$ t = \\frac{\\text{sample mean} - \\text{population mean}}{\\text{sample standard error}} $$"
   ]
  },
  {
   "cell_type": "markdown",
   "metadata": {},
   "source": [
    "**Where the formula of the `sample standard error` :-**\n",
    "\n",
    "$$ \\text{SE} = \\frac{\\text{sample standard deviation}}{\\sqrt{\\text{sample size}}} $$"
   ]
  },
  {
   "cell_type": "markdown",
   "metadata": {},
   "source": [
    "**For a `95% confidence level`,** \n",
    "\n",
    "The critical t-value (two-tailed) with 49 degrees of freedom = $2.0096\\ approximately$"
   ]
  },
  {
   "cell_type": "markdown",
   "metadata": {},
   "source": [
    "**Let's calculate the `t-statistic` :-**\n",
    "\n",
    "$$ t = \\frac{6 - \\text{population mean}}{\\frac{2.5}{\\sqrt{50}}} "
   ]
  },
  {
   "cell_type": "markdown",
   "metadata": {},
   "source": [
    "**Assuming the `population mean weight loss is 0` (since we're testing if the drug has an effect)**"
   ]
  },
  {
   "cell_type": "markdown",
   "metadata": {},
   "source": [
    "**The `t-statistic` becomes :-**\n",
    "\n",
    "$$ t = \\frac{6 - 0}{\\frac{2.5}{\\sqrt{50}}} = \\frac{6}{0.35355} \\approx 16.9706 $$"
   ]
  },
  {
   "cell_type": "markdown",
   "metadata": {},
   "source": [
    "**`Since`,**\n",
    "\n",
    "The calculated t-statistic (16.9706) is much greater than the critical t-value (2.0096).\n",
    "\n",
    "we can conclude that the weight loss drug is significantly effective at a 95% confidence level."
   ]
  },
  {
   "cell_type": "markdown",
   "metadata": {},
   "source": [
    "**`To verify this conclusion`,** \n",
    "\n",
    "we can calculate the p-value associated with this t-statistic. The p-value is the probability of observing a t-statistic as extreme as the one calculated under the null hypothesis. A very small p-value indicates strong evidence against the null hypothesis."
   ]
  },
  {
   "cell_type": "markdown",
   "metadata": {},
   "source": [
    "**`Using a t-distribution table or a statistical calculator`,** \n",
    "\n",
    "we find that the p-value is essentially 0 (much less than 0.0001). This extremely small p-value further supports the conclusion that the weight loss drug is significantly effective."
   ]
  },
  {
   "cell_type": "markdown",
   "metadata": {},
   "source": [
    "In summary, based on the calculated t-statistic and p-value, \n",
    "\n",
    "we reject the null hypothesis and conclude that the new weight loss drug is significantly effective at a 95% confidence level."
   ]
  },
  {
   "cell_type": "markdown",
   "metadata": {},
   "source": [
    "**`In Python` -**"
   ]
  },
  {
   "cell_type": "code",
   "execution_count": 14,
   "metadata": {},
   "outputs": [
    {
     "name": "stdout",
     "output_type": "stream",
     "text": [
      "t-statistic: 16.97\n",
      "p-value: 3.7168840835270203e-22\n",
      "Critical t-value: 2.01\n",
      "Reject the null hypothesis. The drug is significantly effective.\n"
     ]
    }
   ],
   "source": [
    "import scipy.stats as stats\n",
    "\n",
    "# Given data\n",
    "sample_mean = 6\n",
    "sample_std_dev = 2.5\n",
    "sample_size = 50\n",
    "population_mean = 0  # Assuming no effect in the population\n",
    "\n",
    "# Calculate the t-statistic\n",
    "sample_standard_error = sample_std_dev / (sample_size ** 0.5)\n",
    "t_statistic = (sample_mean - population_mean) / sample_standard_error\n",
    "\n",
    "# Degrees of freedom\n",
    "degrees_of_freedom = sample_size - 1\n",
    "\n",
    "# Calculate the p-value\n",
    "p_value = stats.t.sf(abs(t_statistic), df=degrees_of_freedom) * 2  # Two-tailed test\n",
    "\n",
    "# 95% confidence level critical t-value\n",
    "critical_t_value = stats.t.ppf(0.975, df=degrees_of_freedom)\n",
    "\n",
    "# Print results\n",
    "print(f\"t-statistic: {t_statistic:.2f}\")\n",
    "print(f\"p-value: {p_value}\")\n",
    "print(f\"Critical t-value: {critical_t_value:.2f}\")\n",
    "\n",
    "# Compare the t-statistic with the critical t-value and the p-value with the significance level (e.g., 0.05)\n",
    "if t_statistic > critical_t_value and p_value < 0.05:\n",
    "    print(\"Reject the null hypothesis. The drug is significantly effective.\")\n",
    "else:\n",
    "    print(\"Fail to reject the null hypothesis. The drug is not significantly effective.\")"
   ]
  },
  {
   "cell_type": "markdown",
   "metadata": {},
   "source": [
    "-------------------------------------------------------------------------------------------------------------------------------------------------"
   ]
  },
  {
   "cell_type": "markdown",
   "metadata": {},
   "source": [
    "Q.No-11    In a survey of 500 people, 65% reported being satisfied with their current job. Calculate the 95% confidence interval for the true proportion of people who are satisfied with their job."
   ]
  },
  {
   "cell_type": "markdown",
   "metadata": {},
   "source": [
    "Ans :-"
   ]
  },
  {
   "cell_type": "markdown",
   "metadata": {},
   "source": [
    "To calculate the 95% confidence interval for the true proportion of people who are satisfied with their job, you can use the formula for the confidence interval of a proportion. The formula is :-"
   ]
  },
  {
   "cell_type": "markdown",
   "metadata": {},
   "source": [
    "$$ \\text{Confidence Interval} = \\hat{p} \\pm Z \\times \\sqrt{\\frac{\\hat{p}(1 - \\hat{p})}{n}} $$"
   ]
  },
  {
   "cell_type": "markdown",
   "metadata": {},
   "source": [
    "Where:\n",
    "- $\\hat{p}$ is the sample proportion (65% or 0.65 in decimal form).\n",
    "- $Z$ is the critical z-score for a 95% confidence level. For a 95% confidence interval, $Z$ is approximately 1.96.\n",
    "- $n$ is the sample size (500)."
   ]
  },
  {
   "cell_type": "markdown",
   "metadata": {},
   "source": [
    "**Now let's put the values in the formula :-**"
   ]
  },
  {
   "cell_type": "markdown",
   "metadata": {},
   "source": [
    "$\\hat{p} = 0.65$\n",
    "\n",
    "$Z = 1.96$ (for a 95% confidence level)\n",
    "\n",
    "$n = 500$"
   ]
  },
  {
   "cell_type": "markdown",
   "metadata": {},
   "source": [
    "$ \\text{Confidence Interval} = 0.65 \\pm 1.96 \\times \\sqrt{\\frac{0.65 \\times (1 - 0.65)}{500}} $"
   ]
  },
  {
   "cell_type": "markdown",
   "metadata": {},
   "source": [
    "Now, plug this into the confidence interval formula :-"
   ]
  },
  {
   "cell_type": "markdown",
   "metadata": {},
   "source": [
    "$ \\text{Confidence Interval} = 0.65 \\pm 1.96 \\times \\text{Standard Error} $"
   ]
  },
  {
   "cell_type": "markdown",
   "metadata": {},
   "source": [
    "Calculate the standard error :-"
   ]
  },
  {
   "cell_type": "markdown",
   "metadata": {},
   "source": [
    "$ \\text{Standard Error} = \\sqrt{\\frac{0.65 \\times 0.35}{500}} \\approx 0.02 $"
   ]
  },
  {
   "cell_type": "markdown",
   "metadata": {},
   "source": [
    "Now, plug this value into the confidence interval formula :-"
   ]
  },
  {
   "cell_type": "markdown",
   "metadata": {},
   "source": [
    "$ \\text{Confidence Interval} = 0.65 \\pm 1.96 \\times 0.02 $"
   ]
  },
  {
   "cell_type": "markdown",
   "metadata": {},
   "source": [
    "Finally, calculate the lower and upper bounds of the confidence interval :-"
   ]
  },
  {
   "cell_type": "markdown",
   "metadata": {},
   "source": [
    "$ Lower Bound : 0.65 - 1.96 \\times 0.02 \\approx 0.6108 $\n",
    "\n",
    "$ Upper Bound : 0.65 + 1.96 \\times 0.02 \\approx 0.6892 $"
   ]
  },
  {
   "cell_type": "markdown",
   "metadata": {},
   "source": [
    "So, the 95% confidence interval for the true proportion of people who are satisfied with their job is approximately 0.587 to 0.713, or in percentage form, 61.08% to 68.92%."
   ]
  },
  {
   "cell_type": "markdown",
   "metadata": {},
   "source": [
    "**`In Python` -**"
   ]
  },
  {
   "cell_type": "code",
   "execution_count": 15,
   "metadata": {},
   "outputs": [
    {
     "name": "stdout",
     "output_type": "stream",
     "text": [
      "Given :-\n",
      "Sample Proportion =  0.65\n",
      "Sample Size =  500\n",
      "Confidence Level =  0.95\n",
      "\n",
      "Calculation :-\n",
      "Standard Error = 0.02\n",
      "Z-Score = 1.96\n",
      "Margin of Error = 0.04\n",
      "Lower Bound = 0.61\n",
      "Upper Bound = 0.69\n",
      "\n",
      "Conclusion :-\n",
      "The 95.0% confidence interval for the true proportion of people who are satisfied with their job is approximately 0.61 to 0.69.\n",
      "Or, In Percentage form -\n",
      " 58.7% to 71.3%.\n"
     ]
    }
   ],
   "source": [
    "import scipy.stats as stats\n",
    "import math\n",
    "\n",
    "# Given values\n",
    "print(\"Given :-\")\n",
    "sample_proportion = 0.65\n",
    "print(\"Sample Proportion = \",sample_proportion)\n",
    "sample_size = 500\n",
    "print(\"Sample Size = \",sample_size)\n",
    "confidence_level = 0.95\n",
    "print(\"Confidence Level = \",confidence_level)\n",
    "\n",
    "\n",
    "print(\"\\nCalculation :-\")\n",
    "# Calculate the standard error\n",
    "standard_error = math.sqrt((sample_proportion * (1 - sample_proportion)) / sample_size)\n",
    "print(f\"Standard Error = {standard_error:.2f}\")\n",
    "\n",
    "# Calculate the critical z-score for the given confidence level\n",
    "z_score = stats.norm.ppf(1 - (1 - confidence_level) / 2)\n",
    "print(f\"Z-Score = {z_score:.2f}\")\n",
    "\n",
    "# Calculate the margin of error\n",
    "margin_of_error = z_score * standard_error\n",
    "print(f\"Margin of Error = {margin_of_error:.2f}\")\n",
    "\n",
    "# Calculate the confidence interval\n",
    "lower_bound = sample_proportion - margin_of_error\n",
    "print(f\"Lower Bound = {lower_bound:.2f}\")\n",
    "upper_bound = sample_proportion + margin_of_error\n",
    "print(f\"Upper Bound = {upper_bound:.2f}\")\n",
    "\n",
    "# Print the results\n",
    "print(\"\\nConclusion :-\")\n",
    "\n",
    "print(f\"The {confidence_level*100}% confidence interval for the true proportion of people who are satisfied with their job is approximately {lower_bound:.2f} to {upper_bound:.2f}.\")\n",
    "print(\"Or, In Percentage form -\\n 58.7% to 71.3%.\")"
   ]
  },
  {
   "cell_type": "markdown",
   "metadata": {},
   "source": [
    "Q.No-12    A researcher is testing the effectiveness of two different teaching methods on student performance. Sample A has a mean score of 85 with a standard deviation of 6, while sample B has a mean score of 82 with a standard deviation of 5. Conduct a hypothesis test to determine if the two teaching methods have a significant difference in student performance using a t-test with a significance level of 0.01."
   ]
  },
  {
   "cell_type": "markdown",
   "metadata": {},
   "source": [
    "Ans :-"
   ]
  },
  {
   "cell_type": "code",
   "execution_count": 16,
   "metadata": {},
   "outputs": [
    {
     "name": "stdout",
     "output_type": "stream",
     "text": [
      "Given :-\n",
      "Mean of Sample A = 85\n",
      "Standard Deviation of Sample A = 6\n",
      "Mean of Sample B = 82\n",
      "Standard deviation of Sample B = 5\n",
      "Significance Level = 0.01\n",
      "\n",
      "Calculation :-\n",
      "Confidence Level = 0.99\n",
      "Z-Score = 2.58\n",
      "Sample Size of Sample A = 45\n",
      "Sample Size of Sample B = 45\n",
      "Degrees of freedom = 87.93970948050978\n",
      "Critical t Value = 2.63\n",
      "\n",
      "Conclusion :-\n",
      "Fail to reject the null hypothesis. There is no significant difference between the teaching methods.\n"
     ]
    }
   ],
   "source": [
    "import numpy as np\n",
    "from scipy.stats import t\n",
    "\n",
    "# Given data \n",
    "print(\"Given :-\")\n",
    "\n",
    "# Mean of Sample A\n",
    "Mean_of_Sample_A = 85\n",
    "print(f\"Mean of Sample A = {Mean_of_Sample_A}\")\n",
    "\n",
    "# Std Dev. of Sample A\n",
    "Std_of_Sample_A = 6\n",
    "print(f'Standard Deviation of Sample A = {Std_of_Sample_A}')\n",
    "\n",
    "# Mean of Sample B\n",
    "Mean_of_Sample_B = 82\n",
    "print(f\"Mean of Sample B = {Mean_of_Sample_B}\")\n",
    "\n",
    "# Std Dev. of Sample A\n",
    "Std_of_Sample_B = 5\n",
    "print(f'Standard deviation of Sample B = {Std_of_Sample_B}')\n",
    "\n",
    "# Set the significance level\n",
    "alpha = 0.01\n",
    "print(f\"Significance Level = {alpha}\")\n",
    "\n",
    "\n",
    "# Calculation\n",
    "print(\"\\nCalculation :-\")\n",
    "\n",
    "# Calculate the Confidence Level\n",
    "Confidence_level = 1 - alpha\n",
    "print(f\"Confidence Level = {Confidence_level}\")\n",
    "\n",
    "# Calculate the critical z-score for the given confidence level\n",
    "z_score = stats.norm.ppf(1 - (1 - Confidence_level) / 2)\n",
    "print(f\"Z-Score = {z_score:.2f}\")\n",
    "\n",
    "# Calculate the Sample size\n",
    "n = ((z_score**2)*((Std_of_Sample_A**2)+(Std_of_Sample_B**2)))/(Mean_of_Sample_A - Mean_of_Sample_B)**2\n",
    "n_A = n\n",
    "n_B = n\n",
    "print(f\"Sample Size of Sample A = {round(n_A)}\")\n",
    "print(f\"Sample Size of Sample B = {round(n_B)}\")\n",
    "\n",
    "# Calculate the t-test statistic\n",
    "pooled_std = np.sqrt(((n_A - 1) * Std_of_Sample_A ** 2 + (n_B - 1) * Std_of_Sample_B ** 2) / (n_A + n_B - 2))\n",
    "t_statistic = (Mean_of_Sample_A - Mean_of_Sample_B) / (pooled_std * np.sqrt(1 / n_A + 1 / n_B))\n",
    "\n",
    "# Degrees of freedom\n",
    "df = n_A + n_B - 2\n",
    "print(f\"Degrees of freedom = {df}\")\n",
    "\n",
    "# Calculate the critical t-value\n",
    "critical_t = t.ppf(1 - alpha / 2, df)\n",
    "print(f\"Critical t Value = {critical_t:.2f}\")\n",
    "\n",
    "# Conclusion\n",
    "print(\"\\nConclusion :-\")\n",
    "# Compare the t-statistic with the critical t-value\n",
    "if np.abs(t_statistic) > critical_t:\n",
    "    print(\"Reject the null hypothesis. There is a significant difference between the teaching methods.\")\n",
    "else:\n",
    "    print(\"Fail to reject the null hypothesis. There is no significant difference between the teaching methods.\")"
   ]
  },
  {
   "cell_type": "markdown",
   "metadata": {},
   "source": [
    "-------------------------------------------------------------------------------------------------------------------------------------------------"
   ]
  },
  {
   "cell_type": "markdown",
   "metadata": {},
   "source": [
    "Q.No-13    A population has a mean of 60 and a standard deviation of 8. A sample of 50 observations has a mean of 65. Calculate the 90% confidence interval for the true population mean."
   ]
  },
  {
   "cell_type": "markdown",
   "metadata": {},
   "source": [
    "Ans :-"
   ]
  },
  {
   "cell_type": "markdown",
   "metadata": {},
   "source": [
    "To calculate the confidence interval for the true population mean, you can use the formula for a confidence interval for the mean when the population standard deviation is known:"
   ]
  },
  {
   "cell_type": "markdown",
   "metadata": {},
   "source": [
    "$$ Confidence Interval = Sample Mean ± Z * (\\frac{Population Standard Deviation}{\\sqrt{Sample Size}}) $$"
   ]
  },
  {
   "cell_type": "markdown",
   "metadata": {},
   "source": [
    "**`Given` :-**\n",
    "- Sample Mean = 65 (given)\n",
    "- Population Standard Deviation = 8 (given)\n",
    "- Sample Size = 50 (given)\n",
    "- Z = Z-score corresponding to the desired confidence level (90% in this case)"
   ]
  },
  {
   "cell_type": "markdown",
   "metadata": {},
   "source": [
    "The Z-score for a 90% confidence level can be found using a standard normal distribution table or calculator. \n",
    "\n",
    "For a 90% confidence level, \n",
    "\n",
    "$Z-score \\approx 1.645$"
   ]
  },
  {
   "cell_type": "markdown",
   "metadata": {},
   "source": [
    "**`Now, put the values on the formula` :-**\n",
    "\n",
    "$ Confidence\\ Interval = 65 ± 1.645 * (8 / √50) $"
   ]
  },
  {
   "cell_type": "markdown",
   "metadata": {},
   "source": [
    "**`Calculate the standard error` :-**\n",
    "\n",
    "$ Standard Error = Population Standard Deviation / √Sample Size $\n",
    "\n",
    "$ Standard Error = 8 / √50 ≈ 1.131 $"
   ]
  },
  {
   "cell_type": "markdown",
   "metadata": {},
   "source": [
    "**`Calculate the margin of error` :-**\n",
    "\n",
    "$ Margin of Error = Z * Standard Error $\n",
    "\n",
    "$ Margin of Error = 1.645 * 1.131 ≈ 1.863 $"
   ]
  },
  {
   "cell_type": "markdown",
   "metadata": {},
   "source": [
    "**`Now We can calculate the confidence interval` :-**\n",
    "\n",
    "$ Lower Limit = Sample Mean - Margin of Error $\n",
    "\n",
    "$ Lower Limit = 65 - 1.863 ≈ 63.137 $\n",
    "\n",
    "\n",
    "$ Upper Limit = Sample Mean + Margin of Error $\n",
    "\n",
    "$ Upper Limit = 65 + 1.863 ≈ 66.863 $"
   ]
  },
  {
   "cell_type": "markdown",
   "metadata": {},
   "source": [
    "**`In Pyhton` -**"
   ]
  },
  {
   "cell_type": "code",
   "execution_count": 17,
   "metadata": {},
   "outputs": [
    {
     "name": "stdout",
     "output_type": "stream",
     "text": [
      "90% Confidence Interval:\n",
      "Lower Limit: 63.14\n",
      "Upper Limit: 66.86\n"
     ]
    }
   ],
   "source": [
    "import scipy.stats as stats\n",
    "import math\n",
    "\n",
    "# Given values\n",
    "sample_mean = 65\n",
    "population_std_dev = 8\n",
    "sample_size = 50\n",
    "confidence_level = 0.90\n",
    "\n",
    "# Calculate the Z-score for the given confidence level\n",
    "z_score = stats.norm.ppf(1 - (1 - confidence_level) / 2)\n",
    "\n",
    "# Calculate the standard error\n",
    "standard_error = population_std_dev / math.sqrt(sample_size)\n",
    "\n",
    "# Calculate the margin of error\n",
    "margin_of_error = z_score * standard_error\n",
    "\n",
    "# Calculate the confidence interval\n",
    "lower_limit = sample_mean - margin_of_error\n",
    "upper_limit = sample_mean + margin_of_error\n",
    "\n",
    "# Print the results\n",
    "print(\"90% Confidence Interval:\")\n",
    "print(f\"Lower Limit: {lower_limit:.2f}\")\n",
    "print(f\"Upper Limit: {upper_limit:.2f}\")"
   ]
  },
  {
   "cell_type": "markdown",
   "metadata": {},
   "source": [
    "The 90% confidence interval for **`the true population mean is approximately 63.14 to 66.86`**. This means we are 90% confident that the true population mean lies within this interval based on the given sample. "
   ]
  },
  {
   "cell_type": "markdown",
   "metadata": {},
   "source": [
    "--------------------------------------------------------------------------------------------------------------------"
   ]
  },
  {
   "cell_type": "markdown",
   "metadata": {},
   "source": [
    "Q.No-14    In a study of the effects of caffeine on reaction time, a sample of 30 participants had an average reaction time of 0.25 seconds with a standard deviation of 0.05 seconds. Conduct a hypothesis test to determine if the caffeine has a significant effect on reaction time at a 90% confidence level using a t-test."
   ]
  },
  {
   "cell_type": "markdown",
   "metadata": {},
   "source": [
    "Ans :-"
   ]
  },
  {
   "cell_type": "markdown",
   "metadata": {},
   "source": [
    "**Let's Define the `Null hypotheses` and `Alternative hypotheses` :-**\n",
    "\n",
    "-    Null Hypothesis ($H_0$): Caffeine has no significant effect on reaction time. $μ = μ₀$ (where μ₀ is the population mean reaction time without caffeine).\n",
    "-    Alternative Hypothesis ($H_1$): Caffeine has a significant effect on reaction time. $μ ≠ μ₀$."
   ]
  },
  {
   "cell_type": "markdown",
   "metadata": {},
   "source": [
    "Given:\n",
    "- Sample mean $(x̄) = 0.25\\ seconds$\n",
    "- Sample standard deviation $(s) = 0.05\\ seconds$\n",
    "- Sample size $(n) = 30$\n",
    "- Hypothesized population mean $(μ₀) =$ We don't have a specific value, but for the purpose of the t-test, let's assume $μ₀ = 0.24$ seconds (this is just an example value)"
   ]
  },
  {
   "cell_type": "markdown",
   "metadata": {},
   "source": [
    "We can now calculate the t-test statistic:\n",
    "\n",
    "$$ t = \\frac{x̄ - μ₀}{\\frac{s}{\\sqrt{n}}} $$\n",
    "\n",
    "$$ t = \\frac{0.25 - 0.24}{\\frac{0.05}{\\sqrt{30}}} $$\n",
    "\n",
    "$$ t = \\frac{0.01}{\\frac{0.05}{\\sqrt{30}}} $$\n",
    "\n",
    "$$ t = \\frac{0.01}{\\frac{0.05}{5.48}} $$\n",
    "\n",
    "$$t ≈ 1.096$$"
   ]
  },
  {
   "cell_type": "markdown",
   "metadata": {},
   "source": [
    "**Comparing the calculated `t-test statistic (1.096)` with the `critical t-value (1.70)` :-**\n",
    "\n",
    "$$ |Calculated t-value| < |Critical t-value| $$"
   ]
  },
  {
   "cell_type": "markdown",
   "metadata": {},
   "source": [
    "Since 1.096 < 1.70, we do not have enough evidence to reject the null hypothesis. In other words, at the 90% confidence level, we cannot conclude that caffeine has a significant effect on reaction time."
   ]
  },
  {
   "cell_type": "markdown",
   "metadata": {},
   "source": []
  },
  {
   "cell_type": "code",
   "execution_count": 18,
   "metadata": {},
   "outputs": [
    {
     "name": "stdout",
     "output_type": "stream",
     "text": [
      "Calculated t-statistic: 1.095\n",
      "Critical t-value: 1.70\n",
      "Fail to reject the null hypothesis: Caffeine does not have a significant effect on reaction time.\n"
     ]
    }
   ],
   "source": [
    "import scipy.stats as stats\n",
    "\n",
    "# Given data\n",
    "sample_mean = 0.25\n",
    "sample_std = 0.05\n",
    "sample_size = 30\n",
    "confidence_level = 0.90\n",
    "\n",
    "# Hypothesized population mean under the null hypothesis\n",
    "null_mean = 0.24\n",
    "\n",
    "# Calculate the t-test statistic\n",
    "t_statistic = (sample_mean - null_mean) / (sample_std / (sample_size ** 0.5))\n",
    "print(f\"Calculated t-statistic: {t_statistic:.3f}\")\n",
    "\n",
    "# Calculate the critical t-value\n",
    "alpha = 1 - confidence_level\n",
    "degrees_of_freedom = sample_size - 1\n",
    "critical_t = stats.t.ppf(1 - alpha / 2, degrees_of_freedom)\n",
    "print(f\"Critical t-value: {critical_t:.2f}\")\n",
    "\n",
    "# Compare the t-test statistic with the critical t-value\n",
    "if abs(t_statistic) > critical_t:\n",
    "    print(\"Reject the null hypothesis: Caffeine has a significant effect on reaction time.\")\n",
    "else:\n",
    "    print(\"Fail to reject the null hypothesis: Caffeine does not have a significant effect on reaction time.\")"
   ]
  },
  {
   "cell_type": "markdown",
   "metadata": {},
   "source": [
    "                                        END"
   ]
  }
 ],
 "metadata": {
  "kernelspec": {
   "display_name": "Python 3",
   "language": "python",
   "name": "python3"
  },
  "language_info": {
   "codemirror_mode": {
    "name": "ipython",
    "version": 3
   },
   "file_extension": ".py",
   "mimetype": "text/x-python",
   "name": "python",
   "nbconvert_exporter": "python",
   "pygments_lexer": "ipython3",
   "version": "3.9.13"
  },
  "orig_nbformat": 4
 },
 "nbformat": 4,
 "nbformat_minor": 2
}
